{
 "cells": [
  {
   "cell_type": "code",
   "execution_count": null,
   "metadata": {},
   "outputs": [
    {
     "name": "stderr",
     "output_type": "stream",
     "text": [
      "<>:24: SyntaxWarning: invalid escape sequence '\\I'\n",
      "<>:24: SyntaxWarning: invalid escape sequence '\\I'\n",
      "C:\\Users\\sides\\AppData\\Local\\Temp\\ipykernel_23976\\1443750560.py:24: SyntaxWarning: invalid escape sequence '\\I'\n",
      "  script_file_path = \"C:\\INTERN\\EC2\\shell\\cloner.sh\"\n"
     ]
    }
   ],
   "source": [
    "import tempfile\n",
    "from autogen import ConversableAgent\n",
    "from autogen.coding import LocalCommandLineCodeExecutor\n",
    "from autogen.code_utils import CodeBlock\n",
    "import os\n",
    "\n",
    "# Step 1: Set up the LocalCommandLineCodeExecutor\n",
    "work_dir = \".\"  # Set the working directory\n",
    "executor = LocalCommandLineCodeExecutor(\n",
    "    timeout=10,  # Timeout for each code execution in seconds\n",
    "    work_dir=work_dir  # Use the current working directory for code files\n",
    ")\n",
    "\n",
    "# Step 2: Create a temporary directory for storing code files\n",
    "temp_dir = tempfile.TemporaryDirectory()\n",
    "\n",
    "# Step 3: Initialize LocalCommandLineCodeExecutor with the temp directory for storing code files\n",
    "executor = LocalCommandLineCodeExecutor(\n",
    "    timeout=10,  # Timeout for each code execution in seconds\n",
    "    work_dir=temp_dir.name,  # Use the temporary directory for code files\n",
    ")\n",
    "\n",
    "# Step 4: Define the path to the shell script file\n",
    "script_file_path = \"C:\\INTERN\\EC2\\shell\\cloner.sh\"\n",
    "\n",
    "# Step 5: Ensure the script file exists before proceeding\n",
    "if not os.path.exists(script_file_path):\n",
    "    raise ValueError(f\"Shell script file not found at {script_file_path}\")\n",
    "\n",
    "# Step 6: Create a CodeBlock using the script file content\n",
    "with open(script_file_path, \"r\") as file:\n",
    "    shell_script_content = file.read()\n",
    "\n",
    "code_block = CodeBlock(code=shell_script_content, language=\"bash\")\n",
    "\n",
    "# Step 7: Execute the shell script using the executor\n",
    "result = executor.execute_code_blocks([code_block])\n",
    "\n",
    "# Step 8: Print the result\n",
    "print(f\"Exit Code: {result.exit_code}\")\n",
    "print(f\"Output: {result.output}\")\n"
   ]
  },
  {
   "cell_type": "code",
   "execution_count": null,
   "metadata": {},
   "outputs": [],
   "source": []
  }
 ],
 "metadata": {
  "kernelspec": {
   "display_name": "autogen",
   "language": "python",
   "name": "python3"
  },
  "language_info": {
   "codemirror_mode": {
    "name": "ipython",
    "version": 3
   },
   "file_extension": ".py",
   "mimetype": "text/x-python",
   "name": "python",
   "nbconvert_exporter": "python",
   "pygments_lexer": "ipython3",
   "version": "3.12.7"
  }
 },
 "nbformat": 4,
 "nbformat_minor": 2
}
